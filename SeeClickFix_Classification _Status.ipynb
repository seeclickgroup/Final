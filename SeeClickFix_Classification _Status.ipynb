{
 "metadata": {
  "name": ""
 },
 "nbformat": 3,
 "nbformat_minor": 0,
 "worksheets": [
  {
   "cells": [
    {
     "cell_type": "code",
     "collapsed": false,
     "input": [
      "%matplotlib inline\n",
      "\n",
      "import json\n",
      "\n",
      "import requests\n",
      "import pandas as pd\n",
      "import numpy as np\n",
      "import matplotlib.pyplot as plt\n",
      "\n",
      "pd.set_option('display.width', 500)\n",
      "pd.set_option('display.max_columns', 30)\n",
      "\n",
      "# set some nicer defaults for matplotlib\n",
      "from matplotlib import rcParams\n",
      "\n",
      "#these colors come from colorbrewer2.org. Each is an RGB triplet\n",
      "dark2_colors = [(0.10588235294117647, 0.6196078431372549, 0.4666666666666667),\n",
      "                (0.8509803921568627, 0.37254901960784315, 0.00784313725490196),\n",
      "                (0.4588235294117647, 0.4392156862745098, 0.7019607843137254),\n",
      "                (0.9058823529411765, 0.1607843137254902, 0.5411764705882353),\n",
      "                (0.4, 0.6509803921568628, 0.11764705882352941),\n",
      "                (0.9019607843137255, 0.6705882352941176, 0.00784313725490196),\n",
      "                (0.6509803921568628, 0.4627450980392157, 0.11372549019607843),\n",
      "                (0.4, 0.4, 0.4)]\n",
      "\n",
      "rcParams['figure.figsize'] = (10, 6)\n",
      "rcParams['figure.dpi'] = 150\n",
      "rcParams['axes.color_cycle'] = dark2_colors\n",
      "rcParams['lines.linewidth'] = 2\n",
      "rcParams['axes.grid'] = False\n",
      "rcParams['axes.facecolor'] = 'white'\n",
      "rcParams['font.size'] = 14\n",
      "rcParams['patch.edgecolor'] = 'none'\n",
      "\n",
      "\n",
      "def remove_border(axes=None, top=False, right=False, left=True, bottom=True):\n",
      "    \"\"\"\n",
      "    Minimize chartjunk by stripping out unnecessary plot borders and axis ticks\n",
      "    \n",
      "    The top/right/left/bottom keywords toggle whether the corresponding plot border is drawn\n",
      "    \"\"\"\n",
      "    ax = axes or plt.gca()\n",
      "    ax.spines['top'].set_visible(top)\n",
      "    ax.spines['right'].set_visible(right)\n",
      "    ax.spines['left'].set_visible(left)\n",
      "    ax.spines['bottom'].set_visible(bottom)\n",
      "    \n",
      "    #turn off all ticks\n",
      "    ax.yaxis.set_ticks_position('none')\n",
      "    ax.xaxis.set_ticks_position('none')\n",
      "    \n",
      "    #now re-enable visibles\n",
      "    if top:\n",
      "        ax.xaxis.tick_top()\n",
      "    if bottom:\n",
      "        ax.xaxis.tick_bottom()\n",
      "    if left:\n",
      "        ax.yaxis.tick_left()\n",
      "    if right:\n",
      "        ax.yaxis.tick_right()"
     ],
     "language": "python",
     "metadata": {},
     "outputs": [],
     "prompt_number": 1
    },
    {
     "cell_type": "heading",
     "level": 1,
     "metadata": {},
     "source": [
      "Classification"
     ]
    },
    {
     "cell_type": "heading",
     "level": 2,
     "metadata": {},
     "source": [
      "Based on \"status\" of 311 reports"
     ]
    },
    {
     "cell_type": "markdown",
     "metadata": {},
     "source": [
      "<b>Overview and Motivation</b>"
     ]
    },
    {
     "cell_type": "raw",
     "metadata": {},
     "source": [
      "  The State of Georgia 311 system provide a user with the ability to request sevices such as potholes repairs, signage fixing, and traffic issues. At any point in time, any of these requests can either be opened, closed, or acknowledged. A request is opened if has not been acknowledged nor closed. A request is closed once it has been fixed. The purpose of the work in this section is to classify concantenated 'description' and 'summary' of associated with a request based on whether they are closed, opened, or acknowledged. As a result, we hope that we might be able to answer the following questions:"
     ]
    },
    {
     "cell_type": "raw",
     "metadata": {},
     "source": [
      "Are there specific words or descriptions that are more likely to be open, closed, acknowledged?\n",
      "** Again, we used supervised learning to conduct the analysis.  The \"status\" field provided the classification, which we then tested using a training / test sets.  The application would be for a user who is interested in having their issue acknowledged and closed."
     ]
    },
    {
     "cell_type": "raw",
     "metadata": {},
     "source": [
      "These probabilities were determined using the Bayesian model, the Naive Bayes classifier."
     ]
    },
    {
     "cell_type": "raw",
     "metadata": {},
     "source": [
      "Content:\n",
      "------------------\n",
      "- Related Work\n",
      "- Data\n",
      "- Create \"bags of words\"  and coded classes used for cross-validation and and as training set\n",
      "- Cross Validation\n",
      "- Build the Classifier\n",
      "- Model Calibration\n",
      "- Interpretation of Result\n",
      "    - 10 most predict words\n",
      "    - 10 least predictive words\n",
      "    - 5 summary+description where model performs worst\n",
      "    - 5 summary+description where model performs well\n",
      "- Summary"
     ]
    },
    {
     "cell_type": "markdown",
     "metadata": {},
     "source": [
      "<b>Related Work</b>"
     ]
    },
    {
     "cell_type": "raw",
     "metadata": {},
     "source": [
      "The work in this section is similar to the sentiment analysis in CS109 Homework 3, the \"Bayesian Tomatoes\". In the homework, a Naive Bayes classifier was used to build a prediction model for whether a review is fresh or rotten, depending on the text of the review. \n",
      "In a similar approach, this work used a Naive Bayes classifies to build a prediction model for whether a concantenated 'description' and 'summary' of a request is related to the request been closed, open, or acknowledged."
     ]
    },
    {
     "cell_type": "markdown",
     "metadata": {},
     "source": [
      "<b>Data</b>"
     ]
    },
    {
     "cell_type": "raw",
     "metadata": {},
     "source": [
      "The first step is to load the data conataining 311 reports that we have already downloaded and cleaned."
     ]
    },
    {
     "cell_type": "code",
     "collapsed": false,
     "input": [
      "#Load the 311 data\n",
      "data = pd.read_csv(\".\\SeeClickFixData_Primary.csv\")\n",
      "data.head()"
     ],
     "language": "python",
     "metadata": {},
     "outputs": [
      {
       "html": [
        "<div style=\"max-height:1000px;max-width:1500px;overflow:auto;\">\n",
        "<table border=\"1\" class=\"dataframe\">\n",
        "  <thead>\n",
        "    <tr style=\"text-align: right;\">\n",
        "      <th></th>\n",
        "      <th>Unnamed: 0</th>\n",
        "      <th>Unnamed: 0.1</th>\n",
        "      <th>address</th>\n",
        "      <th>bitly</th>\n",
        "      <th>created_at</th>\n",
        "      <th>description</th>\n",
        "      <th>id</th>\n",
        "      <th>issue_id</th>\n",
        "      <th>lat</th>\n",
        "      <th>lng</th>\n",
        "      <th>minutes_since_created</th>\n",
        "      <th>page</th>\n",
        "      <th>rating</th>\n",
        "      <th>request_type_id</th>\n",
        "      <th>slug</th>\n",
        "      <th>status</th>\n",
        "      <th>summary</th>\n",
        "      <th>updated_at</th>\n",
        "      <th>updated_at_raw</th>\n",
        "      <th>user_id</th>\n",
        "      <th>vote_count</th>\n",
        "      <th>type</th>\n",
        "      <th>neighborhood</th>\n",
        "      <th>city</th>\n",
        "      <th>type_large</th>\n",
        "      <th>closed_dummy</th>\n",
        "    </tr>\n",
        "  </thead>\n",
        "  <tbody>\n",
        "    <tr>\n",
        "      <th>0</th>\n",
        "      <td> 0</td>\n",
        "      <td> 0</td>\n",
        "      <td>   189-197 Daniel Drive Stockbridge, GA 30281, USA</td>\n",
        "      <td>  http://bit.ly/J04Ppa</td>\n",
        "      <td> 12/07/2013 - 01:56pm</td>\n",
        "      <td>                                               NaN</td>\n",
        "      <td> 846880</td>\n",
        "      <td> 846880</td>\n",
        "      <td> 33.554070</td>\n",
        "      <td>-84.263908</td>\n",
        "      <td>  41</td>\n",
        "      <td> 1</td>\n",
        "      <td> 1</td>\n",
        "      <td>    0</td>\n",
        "      <td>                                846880-sign</td>\n",
        "      <td> Open</td>\n",
        "      <td>                                   Sign</td>\n",
        "      <td> 12/07/2013 - 01:56pm</td>\n",
        "      <td> 2013-12-07T13:56:14-05:00</td>\n",
        "      <td> 135598</td>\n",
        "      <td> 0</td>\n",
        "      <td>     NaN</td>\n",
        "      <td>  </td>\n",
        "      <td>            </td>\n",
        "      <td>     NaN</td>\n",
        "      <td> 0</td>\n",
        "    </tr>\n",
        "    <tr>\n",
        "      <th>1</th>\n",
        "      <td> 1</td>\n",
        "      <td> 1</td>\n",
        "      <td>           608 Lockwood Court Stockbridge, Georgia</td>\n",
        "      <td>  http://bit.ly/J00KkU</td>\n",
        "      <td> 12/07/2013 - 01:34pm</td>\n",
        "      <td> Please replace light bulbs, no streetlights.  ...</td>\n",
        "      <td> 846863</td>\n",
        "      <td> 846863</td>\n",
        "      <td> 33.536917</td>\n",
        "      <td>-84.265460</td>\n",
        "      <td>  63</td>\n",
        "      <td> 1</td>\n",
        "      <td> 1</td>\n",
        "      <td> 3963</td>\n",
        "      <td>                     846863-no-street-light</td>\n",
        "      <td> Open</td>\n",
        "      <td>                        No street light</td>\n",
        "      <td> 12/07/2013 - 01:34pm</td>\n",
        "      <td> 2013-12-07T13:34:22-05:00</td>\n",
        "      <td>    NaN</td>\n",
        "      <td> 0</td>\n",
        "      <td>     NaN</td>\n",
        "      <td>  </td>\n",
        "      <td> Stockbridge</td>\n",
        "      <td>     NaN</td>\n",
        "      <td> 0</td>\n",
        "    </tr>\n",
        "    <tr>\n",
        "      <th>2</th>\n",
        "      <td> 2</td>\n",
        "      <td> 2</td>\n",
        "      <td> 1052-1118 Hudson Bridge Road Stockbridge, GA 3...</td>\n",
        "      <td> http://bit.ly/1f6qOpg</td>\n",
        "      <td> 12/07/2013 - 10:11am</td>\n",
        "      <td>                                               NaN</td>\n",
        "      <td> 846743</td>\n",
        "      <td> 846743</td>\n",
        "      <td> 33.504406</td>\n",
        "      <td>-84.236282</td>\n",
        "      <td> 265</td>\n",
        "      <td> 1</td>\n",
        "      <td> 1</td>\n",
        "      <td> 3958</td>\n",
        "      <td>                      846743-sign-violation</td>\n",
        "      <td> Open</td>\n",
        "      <td>                         Sign Violation</td>\n",
        "      <td> 12/07/2013 - 10:11am</td>\n",
        "      <td> 2013-12-07T10:11:26-05:00</td>\n",
        "      <td> 135598</td>\n",
        "      <td> 0</td>\n",
        "      <td>     NaN</td>\n",
        "      <td>  </td>\n",
        "      <td> Stockbridge</td>\n",
        "      <td>     NaN</td>\n",
        "      <td> 0</td>\n",
        "    </tr>\n",
        "    <tr>\n",
        "      <th>3</th>\n",
        "      <td> 3</td>\n",
        "      <td> 3</td>\n",
        "      <td> 1090 Eagles Landing Parkway Stockbridge, GA 30...</td>\n",
        "      <td> http://bit.ly/1f6oVJ4</td>\n",
        "      <td> 12/07/2013 - 10:02am</td>\n",
        "      <td>                                               NaN</td>\n",
        "      <td> 846741</td>\n",
        "      <td> 846741</td>\n",
        "      <td> 33.510189</td>\n",
        "      <td>-84.224625</td>\n",
        "      <td> 275</td>\n",
        "      <td> 1</td>\n",
        "      <td> 1</td>\n",
        "      <td> 3958</td>\n",
        "      <td>                      846741-sign-violation</td>\n",
        "      <td> Open</td>\n",
        "      <td>                         Sign Violation</td>\n",
        "      <td> 12/07/2013 - 10:02am</td>\n",
        "      <td> 2013-12-07T10:02:25-05:00</td>\n",
        "      <td> 135598</td>\n",
        "      <td> 0</td>\n",
        "      <td>     NaN</td>\n",
        "      <td>  </td>\n",
        "      <td> Stockbridge</td>\n",
        "      <td>     NaN</td>\n",
        "      <td> 0</td>\n",
        "    </tr>\n",
        "    <tr>\n",
        "      <th>4</th>\n",
        "      <td> 4</td>\n",
        "      <td> 4</td>\n",
        "      <td> 520 Country Club Drive Stockbridge, GA 30281, USA</td>\n",
        "      <td> http://bit.ly/1f6n9b0</td>\n",
        "      <td> 12/07/2013 - 09:49am</td>\n",
        "      <td>                     Stop sign street sigh missing</td>\n",
        "      <td> 846733</td>\n",
        "      <td> 846733</td>\n",
        "      <td> 33.517456</td>\n",
        "      <td>-84.218910</td>\n",
        "      <td> 288</td>\n",
        "      <td> 1</td>\n",
        "      <td> 2</td>\n",
        "      <td> 3963</td>\n",
        "      <td> 846733-traffic-signals-street-lights-signs</td>\n",
        "      <td> Open</td>\n",
        "      <td> Traffic Signals, Street Lights &amp; Signs</td>\n",
        "      <td> 12/07/2013 - 11:21am</td>\n",
        "      <td> 2013-12-07T11:21:46-05:00</td>\n",
        "      <td> 135598</td>\n",
        "      <td> 1</td>\n",
        "      <td> Traffic</td>\n",
        "      <td>  </td>\n",
        "      <td> Stockbridge</td>\n",
        "      <td> Traffic</td>\n",
        "      <td> 0</td>\n",
        "    </tr>\n",
        "  </tbody>\n",
        "</table>\n",
        "</div>"
       ],
       "metadata": {},
       "output_type": "pyout",
       "prompt_number": 3,
       "text": [
        "   Unnamed: 0  Unnamed: 0.1                                            address                  bitly            created_at                                        description      id  issue_id        lat        lng  minutes_since_created  page  rating  request_type_id                                        slug status                                 summary            updated_at             updated_at_raw  user_id  vote_count     type neighborhood         city type_large  closed_dummy\n",
        "0           0             0    189-197 Daniel Drive Stockbridge, GA 30281, USA   http://bit.ly/J04Ppa  12/07/2013 - 01:56pm                                                NaN  846880    846880  33.554070 -84.263908                     41     1       1                0                                 846880-sign   Open                                    Sign  12/07/2013 - 01:56pm  2013-12-07T13:56:14-05:00   135598           0      NaN                                  NaN             0\n",
        "1           1             1            608 Lockwood Court Stockbridge, Georgia   http://bit.ly/J00KkU  12/07/2013 - 01:34pm  Please replace light bulbs, no streetlights.  ...  846863    846863  33.536917 -84.265460                     63     1       1             3963                      846863-no-street-light   Open                         No street light  12/07/2013 - 01:34pm  2013-12-07T13:34:22-05:00      NaN           0      NaN               Stockbridge        NaN             0\n",
        "2           2             2  1052-1118 Hudson Bridge Road Stockbridge, GA 3...  http://bit.ly/1f6qOpg  12/07/2013 - 10:11am                                                NaN  846743    846743  33.504406 -84.236282                    265     1       1             3958                       846743-sign-violation   Open                          Sign Violation  12/07/2013 - 10:11am  2013-12-07T10:11:26-05:00   135598           0      NaN               Stockbridge        NaN             0\n",
        "3           3             3  1090 Eagles Landing Parkway Stockbridge, GA 30...  http://bit.ly/1f6oVJ4  12/07/2013 - 10:02am                                                NaN  846741    846741  33.510189 -84.224625                    275     1       1             3958                       846741-sign-violation   Open                          Sign Violation  12/07/2013 - 10:02am  2013-12-07T10:02:25-05:00   135598           0      NaN               Stockbridge        NaN             0\n",
        "4           4             4  520 Country Club Drive Stockbridge, GA 30281, USA  http://bit.ly/1f6n9b0  12/07/2013 - 09:49am                      Stop sign street sigh missing  846733    846733  33.517456 -84.218910                    288     1       2             3963  846733-traffic-signals-street-lights-signs   Open  Traffic Signals, Street Lights & Signs  12/07/2013 - 11:21am  2013-12-07T11:21:46-05:00   135598           1  Traffic               Stockbridge    Traffic             0"
       ]
      }
     ],
     "prompt_number": 3
    },
    {
     "cell_type": "code",
     "collapsed": false,
     "input": [
      "# A function that select the unique values in 'status' column, which will be  classification\n",
      "def getUnique(dataframe,col):\n",
      "    return dataframe[col].unique()"
     ],
     "language": "python",
     "metadata": {},
     "outputs": [],
     "prompt_number": 4
    },
    {
     "cell_type": "code",
     "collapsed": false,
     "input": [
      "# retrieve the classes based on unique values in status column\n",
      "classes = getUnique(data,'status')"
     ],
     "language": "python",
     "metadata": {},
     "outputs": [],
     "prompt_number": 5
    },
    {
     "cell_type": "code",
     "collapsed": false,
     "input": [
      "# to list the classes\n",
      "print 'Code ', 'Class'\n",
      "print '--------------'\n",
      "for c in classes:\n",
      "    print list(classes).index(c),'-->',c"
     ],
     "language": "python",
     "metadata": {},
     "outputs": [
      {
       "output_type": "stream",
       "stream": "stdout",
       "text": [
        "Code  Class\n",
        "--------------\n",
        "0 --> Open\n",
        "1 --> Closed\n",
        "2 --> Acknowledged\n"
       ]
      }
     ],
     "prompt_number": 6
    },
    {
     "cell_type": "raw",
     "metadata": {},
     "source": [
      "In order to improve the accuracy of our classification, we merged the summary and the description columns:"
     ]
    },
    {
     "cell_type": "code",
     "collapsed": false,
     "input": [
      "# Add description and summary columns, to create a new column ('sum_des') on which our classification will be based\n",
      "data['sum_desc'] = data['summary']+' '+data['description']\n",
      "data['sum_desc'] = data['sum_desc'].fillna('') #we filled the 'na' of the merged column with empty text"
     ],
     "language": "python",
     "metadata": {},
     "outputs": [],
     "prompt_number": 22
    },
    {
     "cell_type": "heading",
     "level": 3,
     "metadata": {},
     "source": [
      "Create \"bag of words\" and coded classes to be used in cross validation and to train classifier"
     ]
    },
    {
     "cell_type": "raw",
     "metadata": {},
     "source": [
      "Because our model will be built using a Naive Bayes Classifier, we need to convert 'sum_desc' to bags of vector. This can be achieved using sklearn CountVectorizer.\n",
      "As required by the clasifier, each of the class names was coded as a number, which is the same as its index in the 'classes' array above."
     ]
    },
    {
     "cell_type": "code",
     "collapsed": false,
     "input": [
      "from sklearn.feature_extraction.text import CountVectorizer\n",
      "\n",
      "# function to return index of the classes as the class numeric value\n",
      "def status(val):\n",
      "    return list(classes).index(val) # return index from 'classes array' \n",
      "\n",
      "# funtion to return bags-of-words and numpy array\n",
      "def make_xy(data, vectorizer=None):     \n",
      "    y = data.status.apply(status) \n",
      "    if vectorizer == None:\n",
      "        vectorizer = CountVectorizer(min_df=0) #initialize vectorizer     \n",
      "    vectorizer.fit(data.sum_desc) \n",
      "    x = vectorizer.transform(data.sum_desc) #create bag of words \n",
      "    return x.tocsc(), y "
     ],
     "language": "python",
     "metadata": {},
     "outputs": [],
     "prompt_number": 8
    },
    {
     "cell_type": "code",
     "collapsed": false,
     "input": [
      "# To be used latter to calculate loglikehood in the log_likelihood function,\n",
      "# we retrieve indices, which are values representing stored classes\n",
      "\n",
      "indices = [list(classes).index(val) for val in classes]"
     ],
     "language": "python",
     "metadata": {},
     "outputs": [],
     "prompt_number": 9
    },
    {
     "cell_type": "heading",
     "level": 3,
     "metadata": {},
     "source": [
      "Cross Validation"
     ]
    },
    {
     "cell_type": "code",
     "collapsed": false,
     "input": [
      "# A loglikelihood function to help determine the min_df and alpha for vectorization and classification \n",
      "# respecively in the cross validation procedure\n",
      "\n",
      "def log_likelihood(clf,x,y):\n",
      "    result = 0    \n",
      "    X_log_proba = clf.predict_log_proba(x)\n",
      "    df = pd.DataFrame(X_log_proba) \n",
      "    for i in range(0, len(y)):\n",
      "        for index in indices:\n",
      "            if (y[i] == index):\n",
      "                result += df[index][i]  \n",
      "    return result"
     ],
     "language": "python",
     "metadata": {},
     "outputs": [],
     "prompt_number": 26
    },
    {
     "cell_type": "raw",
     "metadata": {},
     "source": [
      "This function return a the cross validation score using a scoring function (i.e. the log_likelihood function), the classifier (clf), the bag of woords (X), and the classes (Y)\n",
      "The data \"bags of words\" and the classes were folded 10 times to improve our chances of getting the right mi_df and alpha for our model"
     ]
    },
    {
     "cell_type": "code",
     "collapsed": false,
     "input": [
      "from sklearn.cross_validation import KFold\n",
      "# a function to return average score by folding the training and test set 10 times\n",
      "def cv_score(clf, x, y, score_func):\n",
      "    result = 0\n",
      "    nfold = 10 #number of folds\n",
      "    for train, test in KFold(y.size, nfold): # split data into train/test groups, 10 times\n",
      "        clf.fit(x[train], y[train]) # fit\n",
      "        result += score_func(clf, x[test], y[test]) # evaluate score function on held-out data\n",
      "    return result / nfold # average"
     ],
     "language": "python",
     "metadata": {},
     "outputs": [],
     "prompt_number": 28
    },
    {
     "cell_type": "raw",
     "metadata": {},
     "source": [
      "This section loops through a set of alpha, and min_dfs to determine the best alpha and min_df for our classification model.\n",
      "- alpha is smoothning factor, a Naive Bayes Classifier parameter, that determines the sensitivity to any single feature\n",
      "- min_df is the CountVectorizer keyword, which help it to ignore words that appears fewer than min_df fraction of the 311 descriptions"
     ]
    },
    {
     "cell_type": "code",
     "collapsed": false,
     "input": [
      "from sklearn.cross_validation import cross_val_score\n",
      "from sklearn.cross_validation import train_test_split\n",
      "from sklearn.naive_bayes import MultinomialNB\n",
      "# the list of alpha and min_dfs to test to hel determine the best alpha and min_df, using cross-validation\n",
      "alphas = [0, .1, 1, 5, 10, 50,70,100,120,150,200,300,400,500]\n",
      "min_dfs = [0,1e-1,1e-2,1e-3, 1e-4, 1e-3, 1e-2, 1e-1]\n",
      "#Find the best value for alpha and min_df, and the best classifier\n",
      "best_alpha = None\n",
      "best_min_df = None\n",
      "max_loglike = -np.inf\n",
      "for alpha in alphas:\n",
      "    for min_df in min_dfs:  \n",
      "        # charset_error was ingnored due to situations where description contains non english or \n",
      "        # understandable chracters\n",
      "        vectorizer = CountVectorizer(min_df = min_df,token_pattern=u'(?u)\\\\b\\\\w{3,}\\\\w+\\\\b',charset_error='ignore')       \n",
      "        X, Y = make_xy(data, vectorizer)\n",
      "        X_train, X_test, Y_train, Y_test = train_test_split(X, Y)\n",
      "        clf = MultinomialNB(alpha=alpha)\n",
      "        clf.fit(X_train, Y_train)\n",
      "        score = cv_score(clf, X_test, Y_test, log_likelihood)   \n",
      "        # store new best values if score greater than previous log like value \n",
      "        if score > max_loglike:\n",
      "            max_loglike = score\n",
      "            best_alpha = alpha\n",
      "            best_min_df = min_df "
     ],
     "language": "python",
     "metadata": {},
     "outputs": [],
     "prompt_number": 29
    },
    {
     "cell_type": "code",
     "collapsed": false,
     "input": [
      "# Print the best alpha and best min_df\n",
      "print \"alpha: %f\" % best_alpha\n",
      "print \"min_df: %f\" % best_min_df"
     ],
     "language": "python",
     "metadata": {},
     "outputs": [
      {
       "output_type": "stream",
       "stream": "stdout",
       "text": [
        "alpha: 500.000000\n",
        "min_df: 0.001000\n"
       ]
      }
     ],
     "prompt_number": 31
    },
    {
     "cell_type": "raw",
     "metadata": {},
     "source": [
      "Now, based on our best alpha and min_df, we are going to create a classification model"
     ]
    },
    {
     "cell_type": "heading",
     "level": 3,
     "metadata": {},
     "source": [
      "Build the Classifier"
     ]
    },
    {
     "cell_type": "code",
     "collapsed": false,
     "input": [
      "#Create a new classifier and a new vetorizer based on the best alpha and min_df\n",
      "vectorizer = CountVectorizer(min_df=best_min_df,token_pattern=u'(?u)\\\\b\\\\w{3,}\\\\w+\\\\b',charset_error='ignore')\n",
      "X, Y = make_xy(data,vectorizer)\n",
      "X_train, X_test, Y_train, Y_test = train_test_split(X, Y, test_size=0.5)\n",
      "clf = MultinomialNB(alpha=best_alpha)\n",
      "clf.fit(X_train, Y_train)\n",
      "accr_train = clf.score (X_train,Y_train)\n",
      "accr_test = clf.score (X_test,Y_test)\n",
      "#check the accuracy of the result\n",
      "print \"training accuracy: \" + str (accr_train)\n",
      "print \"test accuracy: \" + str (accr_test)"
     ],
     "language": "python",
     "metadata": {},
     "outputs": [
      {
       "output_type": "stream",
       "stream": "stdout",
       "text": [
        "training accuracy: 0.722416201117\n",
        "test accuracy: 0.710296684119\n"
       ]
      }
     ],
     "prompt_number": 32
    },
    {
     "cell_type": "raw",
     "metadata": {},
     "source": [
      "Since the accuracy of test set is less than the accuracy of training set, our model is not overfiting."
     ]
    },
    {
     "cell_type": "heading",
     "level": 3,
     "metadata": {},
     "source": [
      "Model Calibration"
     ]
    },
    {
     "cell_type": "raw",
     "metadata": {},
     "source": [
      "In this section we plot bar charts to see how good our model can predict each of our classes."
     ]
    },
    {
     "cell_type": "code",
     "collapsed": false,
     "input": [
      "prob_all = clf.predict_proba(X) \n",
      "df_all = pd.DataFrame(prob_all)\n",
      "for ct in classes:\n",
      "    df_all[list(classes).index(ct)].hist(bins=20) # plot histogram for probability of incident closed distribution\n",
      "    plt.title('Histogram of Predicted Probability of '+ ct)\n",
      "    plt.xlabel('P( '+ct+' )')\n",
      "    plt.ylabel('Number')\n",
      "    plt.figure()    \n",
      "    plt.show()"
     ],
     "language": "python",
     "metadata": {},
     "outputs": [
      {
       "metadata": {},
       "output_type": "display_data",
       "png": "[encoded data removed]",
       "text": [
        "<matplotlib.figure.Figure at 0xa2a5668>"
       ]
      },
      {
       "metadata": {},
       "output_type": "display_data",
       "text": [
        "<matplotlib.figure.Figure at 0xf1d82e8>"
       ]
      },
      {
       "metadata": {},
       "output_type": "display_data",
       "png": "[encoded data removed]",
       "text": [
        "<matplotlib.figure.Figure at 0xa873da0>"
       ]
      },
      {
       "metadata": {},
       "output_type": "display_data",
       "text": [
        "<matplotlib.figure.Figure at 0xf1e4198>"
       ]
      },
      {
       "metadata": {},
       "output_type": "display_data",
       "png": "[encoded data removed]",
       "text": [
        "<matplotlib.figure.Figure at 0xa6946d8>"
       ]
      },
      {
       "metadata": {},
       "output_type": "display_data",
       "text": [
        "<matplotlib.figure.Figure at 0xf1d8e10>"
       ]
      }
     ],
     "prompt_number": 33
    },
    {
     "cell_type": "raw",
     "metadata": {},
     "source": [
      "The calibration plots show that the model does a better job predicting the description that have 'open' status than those that have 'close' or 'aknowledge' status.\n",
      "The model has about the same prediction performance for 'close' and 'acknowledge', where a huge percentage of the predictions have zero or close to zero probabilities.\n",
      "Finally, the result is also inline with the fact that we have more 'open' reported than 'close' and 'acknowledge'. "
     ]
    },
    {
     "cell_type": "heading",
     "level": 3,
     "metadata": {},
     "source": [
      "Interpretation of Result"
     ]
    },
    {
     "cell_type": "code",
     "collapsed": false,
     "input": [
      "# We create a dataframe of feature names and probabilities that each of the classes occured \n",
      "words = vectorizer.get_feature_names()\n",
      "imatrix = np.eye(len(words))\n",
      "probs = clf.predict_proba(imatrix)\n",
      "df = pd.DataFrame(probs)\n",
      "df['Word'] = words\n",
      "#create classes for use as columns headers\n",
      "col = {}\n",
      "for ct in classes:\n",
      "    col[list(classes).index(ct)]=ct\n",
      "df.rename(columns=col, inplace=True)\n",
      "df.head()"
     ],
     "language": "python",
     "metadata": {},
     "outputs": [
      {
       "html": [
        "<div style=\"max-height:1000px;max-width:1500px;overflow:auto;\">\n",
        "<table border=\"1\" class=\"dataframe\">\n",
        "  <thead>\n",
        "    <tr style=\"text-align: right;\">\n",
        "      <th></th>\n",
        "      <th>Open</th>\n",
        "      <th>Closed</th>\n",
        "      <th>Acknowledged</th>\n",
        "      <th>Word</th>\n",
        "    </tr>\n",
        "  </thead>\n",
        "  <tbody>\n",
        "    <tr>\n",
        "      <th>0</th>\n",
        "      <td> 0.601318</td>\n",
        "      <td> 0.047401</td>\n",
        "      <td> 0.351280</td>\n",
        "      <td> 10th</td>\n",
        "    </tr>\n",
        "    <tr>\n",
        "      <th>1</th>\n",
        "      <td> 0.600419</td>\n",
        "      <td> 0.047425</td>\n",
        "      <td> 0.352156</td>\n",
        "      <td> 1100</td>\n",
        "    </tr>\n",
        "    <tr>\n",
        "      <th>2</th>\n",
        "      <td> 0.603109</td>\n",
        "      <td> 0.047355</td>\n",
        "      <td> 0.349536</td>\n",
        "      <td> 14th</td>\n",
        "    </tr>\n",
        "    <tr>\n",
        "      <th>3</th>\n",
        "      <td> 0.602638</td>\n",
        "      <td> 0.047411</td>\n",
        "      <td> 0.349952</td>\n",
        "      <td> 2011</td>\n",
        "    </tr>\n",
        "    <tr>\n",
        "      <th>4</th>\n",
        "      <td> 0.603166</td>\n",
        "      <td> 0.047265</td>\n",
        "      <td> 0.349569</td>\n",
        "      <td> 2012</td>\n",
        "    </tr>\n",
        "  </tbody>\n",
        "</table>\n",
        "</div>"
       ],
       "metadata": {},
       "output_type": "pyout",
       "prompt_number": 34,
       "text": [
        "       Open    Closed  Acknowledged  Word\n",
        "0  0.601318  0.047401      0.351280  10th\n",
        "1  0.600419  0.047425      0.352156  1100\n",
        "2  0.603109  0.047355      0.349536  14th\n",
        "3  0.602638  0.047411      0.349952  2011\n",
        "4  0.603166  0.047265      0.349569  2012"
       ]
      }
     ],
     "prompt_number": 34
    },
    {
     "cell_type": "heading",
     "level": 4,
     "metadata": {},
     "source": [
      "Here, we print out the 10 most predictive words for each of the classes:"
     ]
    },
    {
     "cell_type": "code",
     "collapsed": false,
     "input": [
      "# 10 most predictive words\n",
      "for ct in classes:\n",
      "    print \"10 most predictive word for : \" + ct\n",
      "    print \"------------------------------------\"\n",
      "    r = df.sort(ct,ascending=False)\n",
      "    wrd = r.head(10)\n",
      "    print wrd[[ct,'Word']]\n",
      "    print \"=====================================\""
     ],
     "language": "python",
     "metadata": {},
     "outputs": [
      {
       "output_type": "stream",
       "stream": "stdout",
       "text": [
        "10 most predictive word for : Open\n",
        "------------------------------------\n",
        "          Open      Word\n",
        "1283  0.769761      road\n",
        "1517  0.723869      this\n",
        "1450  0.718898    street\n",
        "1367  0.717746      sign\n",
        "1555  0.707161   traffic\n",
        "1140  0.705060    please\n",
        "1165  0.702014  potholes\n",
        "1510  0.698762     there\n",
        "1164  0.696174   pothole\n",
        "852   0.688962      like\n",
        "=====================================\n",
        "10 most predictive word for : Closed\n",
        "------------------------------------\n",
        "        Closed       Word\n",
        "1033  0.049335  occupancy\n",
        "1621  0.049335     verify\n",
        "156   0.049183    billing\n",
        "933   0.047928     medium\n",
        "381   0.047910      crush\n",
        "1219  0.047829  recycling\n",
        "1546  0.047796      total\n",
        "1548  0.047796       tour\n",
        "1218  0.047772    recycle\n",
        "57    0.047757     animal"
       ]
      },
      {
       "output_type": "stream",
       "stream": "stdout",
       "text": [
        "\n",
        "=====================================\n",
        "10 most predictive word for : Acknowledged\n",
        "------------------------------------\n",
        "      Acknowledged         Word\n",
        "241       0.542729         cart\n",
        "627       0.505710      garbage\n",
        "1251      0.424524   requesting\n",
        "1255      0.395945    residence\n",
        "1342      0.389743      service\n",
        "1244      0.388803  replacement\n",
        "1256      0.386063     resident\n",
        "5         0.385757         2013\n",
        "406       0.384572         date\n",
        "189       0.383619       broken\n",
        "=====================================\n"
       ]
      }
     ],
     "prompt_number": 35
    },
    {
     "cell_type": "heading",
     "level": 4,
     "metadata": {},
     "source": [
      "Here, we print out the 10 least predictive words for each of the classes:"
     ]
    },
    {
     "cell_type": "code",
     "collapsed": false,
     "input": [
      "# 10 least predictive words\n",
      "for ct in classes:\n",
      "    print \"10 least predictive word for : \" + ct\n",
      "    print \"------------------------------------\"\n",
      "    r = df.sort(ct,ascending=True)\n",
      "    wrd = r.head(10)\n",
      "    print wrd[[ct,'Word']]\n",
      "    print \"=====================================\""
     ],
     "language": "python",
     "metadata": {},
     "outputs": [
      {
       "output_type": "stream",
       "stream": "stdout",
       "text": [
        "10 least predictive word for : Open\n",
        "------------------------------------\n",
        "          Open         Word\n",
        "241   0.425875         cart\n",
        "627   0.461036      garbage\n",
        "1251  0.533795   requesting\n",
        "1255  0.559998    residence\n",
        "1342  0.566475      service\n",
        "1244  0.566783  replacement\n",
        "5     0.568321         2013\n",
        "406   0.568934         date\n",
        "1256  0.569706     resident\n",
        "189   0.575616       broken\n",
        "=====================================\n",
        "10 least predictive word for : Closed\n",
        "------------------------------------\n",
        "        Closed     Word\n",
        "1283  0.024369     road\n",
        "1517  0.026234     this\n",
        "1450  0.028501   street\n",
        "1510  0.030274    there\n",
        "241   0.031396     cart\n",
        "1367  0.031772     sign\n",
        "1506  0.032431     that\n",
        "1555  0.032450  traffic\n",
        "1140  0.033181   please\n",
        "627   0.033254  garbage"
       ]
      },
      {
       "output_type": "stream",
       "stream": "stdout",
       "text": [
        "\n",
        "=====================================\n",
        "10 least predictive word for : Acknowledged\n",
        "------------------------------------\n",
        "      Acknowledged      Word\n",
        "1283      0.205870      road\n",
        "1517      0.249897      this\n",
        "1367      0.250482      sign\n",
        "1450      0.252601    street\n",
        "1555      0.260389   traffic\n",
        "1140      0.261759    please\n",
        "1165      0.263347  potholes\n",
        "1164      0.269270   pothole\n",
        "1510      0.270964     there\n",
        "852       0.274878      like"
       ]
      },
      {
       "output_type": "stream",
       "stream": "stdout",
       "text": [
        "\n",
        "=====================================\n"
       ]
      }
     ],
     "prompt_number": 36
    },
    {
     "cell_type": "heading",
     "level": 4,
     "metadata": {},
     "source": [
      "Here we print out summary+description from our dataset that where our model performs worse."
     ]
    },
    {
     "cell_type": "code",
     "collapsed": false,
     "input": [
      "# Where model performed poorly\n",
      "probsX = clf.predict_proba(X)\n",
      "df_probsX = pd.DataFrame(probsX)\n",
      "for ct in classes:\n",
      "    df_perf = pd.DataFrame({'Prob':df_probsX[list(classes).index(ct)],'SummaryDesc':data['sum_desc'], 'status':data['status'], 'Y':Y})\n",
      "    df_perf = df_perf[df_perf.Y ==list(classes).index(ct)]\n",
      "    \n",
      "    df_perf = df_perf.sort('Prob',ascending=True)\n",
      "    \n",
      "    print \"*** Worse prediction for \" + ct +\" ***\"\n",
      "    print \" \"\n",
      "    j = 1\n",
      "    \n",
      "    wrd = df_perf.head(5)\n",
      "    for i in wrd['SummaryDesc'].values:\n",
      "\n",
      "        print str(j) + \". \" + i\n",
      "        j +=1\n",
      "    print \" \""
     ],
     "language": "python",
     "metadata": {},
     "outputs": [
      {
       "output_type": "stream",
       "stream": "stdout",
       "text": [
        "*** Worse prediction for Open ***\n",
        " \n",
        "1. Garbage Cart RESIDENT IS REQUESTING A REPLACEMENT GARBAGE CART OR TO REPAIR THE LID - LID IS OFF THE CART \r",
        "\r",
        "\r",
        "\r",
        "DATE:  12-05-2013 (THURSDAY)\n",
        "2. Garbage Cart NEW RESIDENT REQUESTING A GARBAGE CART - THERE IS NOT A CART LOCATED AT THE HOME.\r",
        "\r",
        "\r",
        "\r",
        "DATE:  12-04-2013 (WEDNESDAY)\n",
        "3. Garbag Cart - Broken handle Resident is requesting a replacement garbage cart due to a broken handle on their current cart.\n",
        "4. Garbage Cart RESIDENT IS REQUESTING A REPLACEMENT GARBAGE CART.\r",
        "\r",
        "\r",
        "\r",
        "DATE:  8-08-2013 (FRIDAY\n",
        "5. Garbage Cart / New Residence New service, requesting a garbage cart.\n",
        " \n",
        "*** Worse prediction for Closed ***\n",
        " \n",
        "1. Entrance at 2115 Piedmont  R0AD / AREA ROAD REPAIRS  Needed URGENT NEED: Reasonable Accommodations Requested\r",
        "\r",
        "Although I would like to the city repave all roads saving$$$$$ on pothole expense, residents vehicle maintenance expense, I understand fiscal challenges but\r",
        "Piedmont NE roads and sidewalks are in horrible condition (1mile radius in URGENT NEED 30324 area) and in need of road / sidewalk repairs.\r",
        "\r",
        "Areas / Direction Noted but not limited to:\r",
        "\r",
        "*Front of Perla's Business / off Piedmont \r",
        "*Dunkin Donut / SuB Way\r",
        "* Entrance to 2115 Piedmont\r",
        "\r",
        "Can send photos later if needed and thx in advance.\r",
        "\r",
        " \r",
        "Very tough for Disabled Veterans, people with Disabilities to move / operate independently in this area.\n",
        "2. Street lights are out The street light is out in the circle counter corner from my home and also in front of both my neighbors homes on the Right side of me facing my house and around the corner in the back of me. Please get these lights back on.  They have been out for a while now.\n",
        "3. Vandalism/Graffiti  -Dunwoody-Woodlands Condo Assoc Inc-Trentham Drive -30338 Garage Roofs  and Brick wall to rear of #5437 -5439-5441 - 5443 Trentham Drive (Dunwoody Townhome  section in The Woodlands)-have been vandalized -graffiti on garage roofs and rear brick security wall separating our property from Jett Ferry Office/Williamsburg Shopping Center's  Storm Water Detention Pond- Trespassers have walked on the Garage Roofs , could be very damaging-this vandalism appears to be done by younger Teens & is hard for Us to spot as is entirely behind our rear detached Garages.\r",
        "\r",
        "Would you have Dunwoody Police notified of this and ask that they regularly patrol ?\r",
        "  Thank you\r",
        "John A. Siraco\r",
        "5441 Trentham Drive\r",
        "30338\n",
        "4. Excessive speeding Cars in this subdivision speed by at speeds well over the 25 mph speed limit.  They do not slow down for pedestrians including children.  There need to be more 25mph signs in the neighborhood as well.  I feel that some of the problem is that there are no signs on West Tisbury Lane or Aquinnah Drive.\n",
        "5. Stop Sign Not Visible Trees are hanging over stop sign. This intersection is supposed to be a 5 way stop but most drivers do not see the stop sign. Its hazardous as there are 3 schools in the area and kids are constantly in the area. Please do something BEFORE someone gets hurt.\n",
        " \n",
        "*** Worse prediction for Acknowledged ***\n",
        " \n",
        "1. Backup on I-285 West backs up Peachtree Industrial which backs up Tilly Mill Road From a registered, professional engineer's view point -\r",
        "\r",
        "\r",
        "\r",
        "The traffic light issues on Till Mill Road at Peeler Road and Tilly Mill Road at North Peachtree Road can be directly traced back to the \"Diverging Diamond\" at Ashford-Dunwood Road and the traffic light at Peachtree-Dunwoody.  Because of the traffic lights on the west bound I-285 exit ramp turning right onto Ashford-Dunwoody, the traffic cannot move as freely as it once did before the \"Diverging Diamond\".  This slows the traffic on I-285 West back to Peachtree Industrial.  This causes Peachtree Industrial to back up which then causes westbound drivers to bailout onto Tilly Mill Road and Winters Chapel Road.  Drivers on Winters Chapel Road then use Peeler Road which then runs back into Tilly Mill Road.  That is why Peeler and Tilly Mill are now becoming backed up when they did not before the Ashford-Dunwoody \"Diverging Diamond\".  Also, Perimeter College traffic uses the same Tilly Mill and Winters Chapel Roads along with North Peachtree Road, which just adds to the traffic flow problems.  If you could fix the problems up stream at Peachtree-Dunwood and Ashford-Dunwood, the rest of the system would flow much quicker.\r",
        "\r",
        "\r",
        "\r",
        "It would also help on Tilly Mill Road if the traffic signals were more \"intelligent\" and could recognize changes in traffic flows on both Tilly Mill and Peeler Road and at Tilly Mill and North Peachtree Roads.\r",
        "\r",
        "\r",
        "\r",
        "Just remember that changes to any system, like adding the Ashford-Dunwood \"Diverging Diamond\", have consequences - sometimes unintended consequences!\r",
        "\r\n",
        "2. No Sidewalk \ufffd\ufffd\ufffd Pedestrians Crossing and Cars Swerving  - Dangerous! Problem: \r",
        "\r",
        "   There is no side walk from the bridge up until the spring gate subdivision (approximately 700 feet). At this point the side walk begins on the other side of the road. \r",
        "\r",
        "   Due to the lack of sidewalk, there are many adults and children alike are crossing the 700 feet pass by either walking on the road itself or by walking 2-3 inches away from the road. This is incredibly dangerous for the pedestrian as well as the drivers on Rucker St. I along with many drivers have had to swerve at 35mph after seeing a pedestrian precariously crossing this area only a few inches from the road. Pedestrians wanting to simply enjoy a morning or evening walk place themselves in mortal peril by crossing this pass. By creating a break in sidewalk, we have in essence segregated the two communities living on either side and significantly discouraged them from walking towards the other side.\r",
        "\r",
        "\r",
        "\r",
        "Simple Solution: \r",
        "\r",
        "Connect the existing side walk from before the bridge with the existing sidewalk 200 feet past Harris road. By connecting the two, you will ensure that drivers and pedestrians can coexist safely AND that pedestrians will not have to cross the road after the bridge and jaywalk unnecessarily.\r",
        "\r\n",
        "3. Traffic routing of GA400 onto Old Milton Parkway When exiting northbound from GA400 onto Old Milton Parkway, there are eventually three turn lanes:  1 to the right only, 1 to the left only, and 1 in the middle that can go right or left.  That middle turn lane should be RIGHT TURN ONLY.  It is the only lane a driver can take to go right onto Old Milton and then take the first left onto Morris Road.  Very little traffic turns left off the exit but it regularly uses that middle lane, which blocks the 90%+ of us wanting to turn right from being able to do so until the light turns despite plenty of opportunity to turn right on red.  This is so painful to sit through; it i excruciating.  Please make the middle exit lane a RIGHT TURN ONLY.  PLEASE!!!\n",
        "4. Pothole in lane area As you come off of 140 turning left onto Riverstone parkway there is a pothole that needs to be filled in and there is dirt and mud there now, that when it rains it gets all over cars because people love to hit potholes and I can't stand them. This is located on the middle median on the left inside lane area as you turn left onto Riverstone parkway Please Fix this asap. Also...there are several areas that need to be realigned all of the striped lines on both sides are faded out with all of the traffic on Riverstone Parkway when will this happen, people are riding in all lanes because there are no lines, very dangerous for drivers.\n",
        "5. Left Turn Arrow Request into Oak Forest Hills This is a request for a change to the traffic light at the intersection of Ashford Dunwoody Rd and Oak Forest Dr.\r",
        "\r",
        " When heading south and turning left onto Oak Forest, there is a left turn lane but no left turn arrow. \r",
        "\r",
        "The traffic heading north on Ashford Dunwoody towards perimeter mall is often very heavy and potentially dangerous.\r",
        "\r",
        "On the other side heading north there is no left turn lane onto Perimeter Summit parkway and sometimes drivers attempting to turn left onto Perimeter Summit parkway create a turning lane by moving towards the center. This also creates a dangerous situation because drivers will attempt to pass them on the right with limited visibility.\r",
        "\r",
        "Please consider making a change to these traffic lights at the intersection of Ashford Dunwoody Rd and Oak Forest Dr/Perimeter Summit Parkway.\r\n",
        " \n"
       ]
      }
     ],
     "prompt_number": 45
    },
    {
     "cell_type": "heading",
     "level": 4,
     "metadata": {},
     "source": [
      "Here we print out summary+description from our dataset where our model performs well."
     ]
    },
    {
     "cell_type": "code",
     "collapsed": false,
     "input": [
      "# Where model performed very well\n",
      "probsX = clf.predict_proba(X)\n",
      "df_probsX = pd.DataFrame(probsX)\n",
      "for ct in classes:\n",
      "    df_perf = pd.DataFrame({'Prob':df_probsX[list(classes).index(ct)],'SummaryDesc':data['sum_desc'], 'status':data['status'], 'Y':Y})\n",
      "    df_perf = df_perf[df_perf.Y ==list(classes).index(ct)]\n",
      "    \n",
      "    df_perf = df_perf.sort(['Prob'],ascending=False)\n",
      "    \n",
      "    print \"*** Best prediction for \" + ct +\" ***\"\n",
      "    print \" \"\n",
      "    j = 1    \n",
      "    wrd = df_perf.head(5)\n",
      "    for i in wrd['SummaryDesc'].values:\n",
      "        print str(j) + \". \" + i\n",
      "        j +=1\n",
      "    print \" \""
     ],
     "language": "python",
     "metadata": {},
     "outputs": [
      {
       "output_type": "stream",
       "stream": "stdout",
       "text": [
        "*** Best prediction for Open ***\n",
        " \n",
        "1. Help us get a light and crosswalk before a tragedy happens! Everyone knows the S.W. section of Atlanta is often forgotten. However, there is a dire need for a traffic light and crosswalk at Campbellton Road at the entrance of the Cascade Glen Apartments before a driver or pedestrian gets killed. This location needs a crosswalk and light for several combined reasons.\r",
        "\r",
        "First, this is a large complex that houses a large group of citizens who rely on MARTA to get to and from. School buses also enter the complex to pick up students from several nearby schools. There is also a MARTA stop just outside the entrance on both sides of the street, but no crosswalk for pedestrians to get across to the East bound buses. Pedestrians find themselves caught in the motorist turn lanes trying to get across to the other side. More importantly, there is a blind curve that obstructs the vision of people driving out of the complex and the apartment marquis also blocks the vision of drivers trying to enter Campbellton Road. Once you have pulled out onto Campbellton Road, it's like playing Russian Roulette with the oncoming traffic you can't see until it's right up on you. Moreover, speeding cars coming around this blind spot and on the opposite side of the street have  led Atlanta police officers to frequently set up speed traps right here at the trouble area, instead of putting up a stop light to control the flow of traffic. \r",
        "\r",
        "What is needed is a crosswalk and traffic light on Campbellton Road and facing the traffic coming out of the complex to control the flow of traffic just West of Fairburn Rd. and allowing for the complex's traffic to enter the roadway with the threat of being struck with traffic coming around this blind spot. It's a \"no-brainer\" once you see the situation. And this would allow citizens to cross safely to the bus stop on the Eastbound side and allow drivers a safer way of getting onto Campbellton Road. If a crosswalk and light is installed, it should be noted that the Westbound MARTA bus stop should be moved back to the complex's entrance instead of the way it is now situated in between the complex's entrance opening and the exit opening. Please help before you end up coming out here to cover a tragedy!\n",
        "2. Traffic Conditions-Northlake  In the last year or so, three popular fast food restaurants have opened in the Northlake mall area, which caused what seems like a 200% increase in traffic, now almost takes 2-3 lights to turn during lunch/evening rush, and with a fourth opening soon, it's only going to get worse. One of the worst things, is that there are no turn signals for the north and south lights at the intersection of Lavista and Henderson Mill. It's gotten so bad, I've watched people turning left (north) onto Lavista from Henderson Mill, actually turn from the straight lane, to get through the light, which causes the traffic coming out of the Northlake Tower Festival (where there is no turn light either) to be put into a dangerous situation. Obviously no one thought to evaluate or improve the traffic conditions when these restaurants were approved. People routinely slam on their brakes to try to get into the shopping center with the restaurants, or block lanes of traffic to get out, since the entryways near the restaurant are in a horrible place. With the increase in traffic, the road markings need to be improved also, the lines are faded, there's no reflective paint on the medians, so you can't see them at night, the turn lanes are only marked with faded arrows on the road, which people can't see now because of all the traffic, so they run the turn lane at shopping center entrances to get to the next one, and for the I-285 entrance on Lavista, there are no overhead signs clearly stating what lanes to be in, so people practically cause accidents to to get in or out of the entrance ramps. The traffic is also causing lots of damage to the roads, as they have started getting pot holes and other damage really quickly. This area needs to be improved quickly, since it seems the number of accidents is rising, or at least the number of cop cars are. At the very least, there need to be turn signals for all the sections at Lavista and Henderson Mill and clearly marked road signs above the road people can see, and better entrances/exits for the Briarcliff Village shopping center and Briarcliff Lavisita Shopping center.\n",
        "3. Need Improvement of Left Turn Lanes When traffic that is heading east on E Crogan St. in downtown Lawrenceville tries to turn left onto Buford Dr. (to head north towards Hwy. 316), they are put in danger of a collision. The left turn only lane should only turn left, but on an almost DAILY basis some traffic continues straight on E Crogan St. This puts traffic in the lane beside the left turn only lane in danger. The lane beside the left turn only lane is a lane that you can either turn left or continue straight. Traffic that chooses to turn left (onto Buford Dr.) may be hit by traffic in the left turn only lane that has continued straight, disregarding the left turn only signs. Please install a barricade to keep left turn only traffic from continuing straight. It must be concrete, because small posts that have been installed have been run over and are no longer there. There is no deterrent. I turn left at this intersection daily and have seen numerous near misses. Thank you!\n",
        "4. North Druid Kills This morning around 7:30am as I was trying to drive to my job I was stopped at the exit of my neighborhood by a fire truck with lights flashing and 2 Dekalb County officers directing traffic. A car belonging to a new neighbor who lives on N. Druid Hills Road (3614 NDH Road) had been t-boned by a speeding driver.  It was completely totaled with all airbags deployed.  It was crumpled at the entrance of her driveway - she almost made it.  Thank God she was not injured.  Had she had a passenger or a child in the car, the same would not be said.\r",
        "\r",
        "\r",
        "\r",
        "I am a resident of N. Druid Valley off N. Druid Hills Road and we need your help with a traffic problem that has taken enough of a toll on us and our neighbors.  Less than 10 days ago, there was a fatal wreck near the exact same spot.  In 1976, a little boy was killed crossing the road to get to school.  The issue is that the speed of this road and the lack of traffic calming or electronic signals is taking its toll on us - the 110 homes in my neighborhood, along with the homes that line N. Druid Hills and the hundreds of homes in the area.\r",
        "\r",
        "\r",
        "\r",
        "To document crashes, injuries, and deaths, my volunteer neighborhood association, North Druid Valley Home Association has put together a website: http://www.northdruidkills.com This website is going to be used to continuously compile the dangers of this stretch of road that is handling too much traffic.  We plan on using it to raise the volume of our voice to get some help.  We hope you are listening.\r",
        "\r",
        "\r",
        "\r",
        "We are subject to the dangers of those speeding off 78 onto what should not be an extension of the highway - North Druid Hills is like a racetrack during the morning and evening commute.  It is a danger to exit our neighborhood at N. Valley Road and N. Druid Circle - we are completely cut off from an intersection with a stop light.  And we are in between a raceway used by folks who speed to and from work daily.  If we are not at risk of being hit coming out, then we are by turning in. Many of the photos on the website show rear-end collisions.\r",
        "\r",
        "\r",
        "\r",
        "Sincerely yours,\r",
        "\r",
        "\r",
        "\r",
        "Patrick S.\r",
        "\r",
        "Decatur, GA 30033\r",
        "\r",
        "\r",
        "\r",
        "Read the growing list of stories and the increasing number of photos here:\r",
        "\r",
        "http://www.northdruidkills.com\n",
        "5. NB East Lake Dr Traffic Needs Lane Clarification  On the south side of the intersection, northbound traffic's left lane has a straight or left arrow painted on the roadway. The right lane has a straight-only arrow.  The confusion lies in what is considered \"straight\" for the left and right lanes.  Right lane traffic physically points toward the exit (confusingly called East Lake Dr also) to W College Ave.  Left lane traffic physically points towards the right lane of East Lake Dr that is located on the north side of the intersection.  Because there are no painted guidelines through the intersection, confusion can occur as northbound traffic in the \"right straight\" lane on the south side of the intersection divert to the right lane of East Lake Dr in the middle of the intersection, causing the potential for a collision with traffic in the \"left straight\" lane on the south side of the intersection who are targeting for the same right lane on East Lake Dr. A painted guideline through this intersection would eliminate confusion regarding lane ownership.\n",
        " \n",
        "*** Best prediction for Closed ***\n",
        " \n",
        "1. BILLING ISSSUE VERIFY OCCUPANCY.\r",
        "\r",
        "\r",
        "\r",
        "DATE:11/14/2013\n",
        "2. BILLING ISSUE VERIFY OCCUPANCY.\r",
        "\r",
        "\r",
        "\r",
        "DATE:  12/3/13\n",
        "3. BILLING ISSUE VERIFY OCCUPANCY.\r",
        "\r",
        "\r",
        "\r",
        "DATE:  12/4/13\n",
        "4. BILLING ISSUE VERIFY OCCUPANCY.\r",
        "\r",
        "\r",
        "\r",
        "DATE:  12/3/13\n",
        "5. BILLING ISSUE VERIFY OCCUPANCY.\r",
        "\r",
        "\r",
        "\r",
        "DATE:11/26/13\n",
        " \n",
        "*** Best prediction for Acknowledged ***\n",
        " \n",
        "1. Garbage Cart RESIDENT IS REQUESTING A REPLACEMENT GARBAGE CART - RESIDENT WAS DELIVERED A CART ON FEB 16, 2013- CART # 11-602174 BY R. EASON.  CART WAS STOLEN BEFORE RESIDENT RETURNED HOME TO RETRIEVE.  \r",
        "\r",
        "\r",
        "\r",
        "DATE:  10-24-2013 (THURSDAY)\n",
        "2. Garbage Cart RESIDENT IS REQUESTING A REPLACEMENT GARBAGE CART - CART HAS A BROKEN LID AND SPLIT ON THE SIDES OF THE CART.\r",
        "\r",
        "\r",
        "\r",
        "DATE:  9-20-2013 (FRIDAY)\n",
        "3. Garbage Cart RESIDENT IS REQUESTING A REPLACEMENT  GARBAGE CART - CART HAS A BROKEN LIFT BAR AND THE CART IS SPLIT WHERE THE BAR WAS .\r",
        "\r",
        "\r",
        "\r",
        "DATE: 10-17-2013 (THURSDAY)\n",
        "4. Garbage Cart RESIDENT IS REQUESTING A REPAIR TO THEIR GARBAGE CART OR REPLACE THE CART - CART HAS A BROKEN LID AND THE RESIDENT STILL HAS THE LID.\r",
        "\r",
        "\r",
        "\r",
        "DATE:  9-27-2013 (FRIDAY)\n",
        "5. Garbage Cart RESIDENT IS REQUESTING A REPLACEMENT GARBAGE CART - CART HAS A LARGE HOLE IN THE BOTTOM AND IS LEAKING CONTENTS OUT OF THE BOTTOM OF THE CART.\r",
        "\r",
        "\r",
        "\r",
        "DATE:  7-26-2013 (FRIDAY)\n",
        " \n"
       ]
      }
     ],
     "prompt_number": 46
    },
    {
     "cell_type": "heading",
     "level": 3,
     "metadata": {},
     "source": [
      "Summary"
     ]
    },
    {
     "cell_type": "raw",
     "metadata": {},
     "source": [
      "In summary, the model performed well predicting 'open' reports based on the description and summary fields. This is mostly due to the fact that 60% of the dataset was classified as 'open'.\n",
      "The model will perform better if more 'close' and acknowledge data are added to train the classifier."
     ]
    }
   ],
   "metadata": {}
  }
 ]
}