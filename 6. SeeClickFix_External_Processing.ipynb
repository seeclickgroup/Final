{
 "metadata": {
  "name": ""
 },
 "nbformat": 3,
 "nbformat_minor": 0,
 "worksheets": [
  {
   "cells": [
    {
     "cell_type": "heading",
     "level": 1,
     "metadata": {},
     "source": [
      "6. Sharing the data"
     ]
    },
    {
     "cell_type": "code",
     "collapsed": false,
     "input": [
      "%matplotlib inline\n",
      "\n",
      "import matplotlib.pyplot as plt\n",
      "import pandas as pd\n",
      "import numpy as np\n",
      "import urllib\n",
      "import json\n",
      "from matplotlib import rcParams\n",
      "import scipy as sp\n",
      "from collections import defaultdict\n",
      "import datetime as dt\n",
      "import networkx as nx\n",
      "import simplekml as skml\n",
      "import pykml\n",
      "from pykml import parser\n",
      "from pykml.parser import Schema\n",
      "from os import path\n",
      "import io\n",
      "import re\n",
      "\n",
      "\n",
      "#tell pandas to display wide tables as pretty HTML tables\n",
      "pd.set_option('display.width', 500)\n",
      "pd.set_option('display.max_columns', 100)\n",
      "\n",
      "#colorbrewer2 Dark2 qualitative color table\n",
      "dark2_colors = [(0.10588235294117647, 0.6196078431372549, 0.4666666666666667),\n",
      "                (0.8509803921568627, 0.37254901960784315, 0.00784313725490196),\n",
      "                (0.4588235294117647, 0.4392156862745098, 0.7019607843137254),\n",
      "                (0.9058823529411765, 0.1607843137254902, 0.5411764705882353),\n",
      "                (0.4, 0.6509803921568628, 0.11764705882352941),\n",
      "                (0.9019607843137255, 0.6705882352941176, 0.00784313725490196),\n",
      "                (0.6509803921568628, 0.4627450980392157, 0.11372549019607843)]\n",
      "\n",
      "rcParams['figure.figsize'] = (10, 6)\n",
      "rcParams['figure.dpi'] = 150\n",
      "rcParams['axes.color_cycle'] = dark2_colors\n",
      "rcParams['lines.linewidth'] = 2\n",
      "rcParams['axes.facecolor'] = 'white'\n",
      "rcParams['font.size'] = 14\n",
      "rcParams['patch.edgecolor'] = 'white'\n",
      "rcParams['patch.facecolor'] = dark2_colors[0]\n",
      "rcParams['font.family'] = 'StixGeneral'\n",
      "\n",
      "def remove_border(axes=None, top=False, right=False, left=True, bottom=True):\n",
      "    \"\"\"\n",
      "    Minimize chartjunk by stripping out unnecesasry plot borders and axis ticks\n",
      "    \n",
      "    The top/right/left/bottom keywords toggle whether the corresponding plot border is drawn\n",
      "    \"\"\"\n",
      "    ax = axes or plt.gca()\n",
      "    ax.spines['top'].set_visible(top)\n",
      "    ax.spines['right'].set_visible(right)\n",
      "    ax.spines['left'].set_visible(left)\n",
      "    ax.spines['bottom'].set_visible(bottom)\n",
      "    \n",
      "    #turn off all ticks\n",
      "    ax.yaxis.set_ticks_position('none')\n",
      "    ax.xaxis.set_ticks_position('none')\n",
      "    \n",
      "    #now re-enable visibles\n",
      "    if top:\n",
      "        ax.xaxis.tick_top()\n",
      "    if bottom:\n",
      "        ax.xaxis.tick_bottom()\n",
      "    if left:\n",
      "        ax.yaxis.tick_left()\n",
      "    if right:\n",
      "        ax.yaxis.tick_right()"
     ],
     "language": "python",
     "metadata": {},
     "outputs": [],
     "prompt_number": 122
    },
    {
     "cell_type": "markdown",
     "metadata": {},
     "source": [
      "Our modelling has provided insight into the shape and nature of the SeeClickFix dataset. Given meaningful findings, it is important to extend the work that we've performed and share the information elsewhere. Therefore, in this section we look at two method for shaping and processing the issue data for web consumption.\n",
      "\n",
      "To get started, we'll load the issues data to a DataFrame, make a test DataFrame for use below, and describe it so that we know what fields we're working with."
     ]
    },
    {
     "cell_type": "code",
     "collapsed": false,
     "input": [
      "df_base = pd.read_csv('data/SeeClickFixData_Primary.csv')"
     ],
     "language": "python",
     "metadata": {},
     "outputs": [],
     "prompt_number": 3
    },
    {
     "cell_type": "code",
     "collapsed": false,
     "input": [
      "df_base.describe()\n",
      "print len(df_base)\n",
      "\n",
      "# A frame to use for testing simplekml\n",
      "df_test = df_base[:5]\n",
      "print type(df_test)\n",
      "print df_base.created_at.min()\n",
      "print df_base.created_at.max()\n",
      "df_test.head()"
     ],
     "language": "python",
     "metadata": {},
     "outputs": [
      {
       "output_type": "stream",
       "stream": "stdout",
       "text": [
        "5729\n",
        "<class 'pandas.core.frame.DataFrame'>\n",
        "01/01/2012 - 07:08pm\n",
        "12/31/2012 - 01:02pm\n"
       ]
      },
      {
       "html": [
        "<div style=\"max-height:1000px;max-width:1500px;overflow:auto;\">\n",
        "<table border=\"1\" class=\"dataframe\">\n",
        "  <thead>\n",
        "    <tr style=\"text-align: right;\">\n",
        "      <th></th>\n",
        "      <th>Unnamed: 0</th>\n",
        "      <th>Unnamed: 0.1</th>\n",
        "      <th>address</th>\n",
        "      <th>bitly</th>\n",
        "      <th>created_at</th>\n",
        "      <th>description</th>\n",
        "      <th>id</th>\n",
        "      <th>issue_id</th>\n",
        "      <th>lat</th>\n",
        "      <th>lng</th>\n",
        "      <th>minutes_since_created</th>\n",
        "      <th>page</th>\n",
        "      <th>rating</th>\n",
        "      <th>request_type_id</th>\n",
        "      <th>slug</th>\n",
        "      <th>status</th>\n",
        "      <th>summary</th>\n",
        "      <th>updated_at</th>\n",
        "      <th>updated_at_raw</th>\n",
        "      <th>user_id</th>\n",
        "      <th>vote_count</th>\n",
        "      <th>type</th>\n",
        "      <th>neighborhood</th>\n",
        "      <th>city</th>\n",
        "      <th>type_large</th>\n",
        "      <th>closed_dummy</th>\n",
        "    </tr>\n",
        "  </thead>\n",
        "  <tbody>\n",
        "    <tr>\n",
        "      <th>0</th>\n",
        "      <td> 0</td>\n",
        "      <td> 0</td>\n",
        "      <td>   189-197 Daniel Drive Stockbridge, GA 30281, USA</td>\n",
        "      <td>  http://bit.ly/J04Ppa</td>\n",
        "      <td> 12/07/2013 - 01:56pm</td>\n",
        "      <td>                                               NaN</td>\n",
        "      <td> 846880</td>\n",
        "      <td> 846880</td>\n",
        "      <td> 33.554070</td>\n",
        "      <td>-84.263908</td>\n",
        "      <td>  41</td>\n",
        "      <td> 1</td>\n",
        "      <td> 1</td>\n",
        "      <td>    0</td>\n",
        "      <td>                                846880-sign</td>\n",
        "      <td> Open</td>\n",
        "      <td>                                   Sign</td>\n",
        "      <td> 12/07/2013 - 01:56pm</td>\n",
        "      <td> 2013-12-07T13:56:14-05:00</td>\n",
        "      <td> 135598</td>\n",
        "      <td> 0</td>\n",
        "      <td>     NaN</td>\n",
        "      <td>  </td>\n",
        "      <td>            </td>\n",
        "      <td>     NaN</td>\n",
        "      <td> 0</td>\n",
        "    </tr>\n",
        "    <tr>\n",
        "      <th>1</th>\n",
        "      <td> 1</td>\n",
        "      <td> 1</td>\n",
        "      <td>           608 Lockwood Court Stockbridge, Georgia</td>\n",
        "      <td>  http://bit.ly/J00KkU</td>\n",
        "      <td> 12/07/2013 - 01:34pm</td>\n",
        "      <td> Please replace light bulbs, no streetlights.  ...</td>\n",
        "      <td> 846863</td>\n",
        "      <td> 846863</td>\n",
        "      <td> 33.536917</td>\n",
        "      <td>-84.265460</td>\n",
        "      <td>  63</td>\n",
        "      <td> 1</td>\n",
        "      <td> 1</td>\n",
        "      <td> 3963</td>\n",
        "      <td>                     846863-no-street-light</td>\n",
        "      <td> Open</td>\n",
        "      <td>                        No street light</td>\n",
        "      <td> 12/07/2013 - 01:34pm</td>\n",
        "      <td> 2013-12-07T13:34:22-05:00</td>\n",
        "      <td>    NaN</td>\n",
        "      <td> 0</td>\n",
        "      <td>     NaN</td>\n",
        "      <td>  </td>\n",
        "      <td> Stockbridge</td>\n",
        "      <td>     NaN</td>\n",
        "      <td> 0</td>\n",
        "    </tr>\n",
        "    <tr>\n",
        "      <th>2</th>\n",
        "      <td> 2</td>\n",
        "      <td> 2</td>\n",
        "      <td> 1052-1118 Hudson Bridge Road Stockbridge, GA 3...</td>\n",
        "      <td> http://bit.ly/1f6qOpg</td>\n",
        "      <td> 12/07/2013 - 10:11am</td>\n",
        "      <td>                                               NaN</td>\n",
        "      <td> 846743</td>\n",
        "      <td> 846743</td>\n",
        "      <td> 33.504406</td>\n",
        "      <td>-84.236282</td>\n",
        "      <td> 265</td>\n",
        "      <td> 1</td>\n",
        "      <td> 1</td>\n",
        "      <td> 3958</td>\n",
        "      <td>                      846743-sign-violation</td>\n",
        "      <td> Open</td>\n",
        "      <td>                         Sign Violation</td>\n",
        "      <td> 12/07/2013 - 10:11am</td>\n",
        "      <td> 2013-12-07T10:11:26-05:00</td>\n",
        "      <td> 135598</td>\n",
        "      <td> 0</td>\n",
        "      <td>     NaN</td>\n",
        "      <td>  </td>\n",
        "      <td> Stockbridge</td>\n",
        "      <td>     NaN</td>\n",
        "      <td> 0</td>\n",
        "    </tr>\n",
        "    <tr>\n",
        "      <th>3</th>\n",
        "      <td> 3</td>\n",
        "      <td> 3</td>\n",
        "      <td> 1090 Eagles Landing Parkway Stockbridge, GA 30...</td>\n",
        "      <td> http://bit.ly/1f6oVJ4</td>\n",
        "      <td> 12/07/2013 - 10:02am</td>\n",
        "      <td>                                               NaN</td>\n",
        "      <td> 846741</td>\n",
        "      <td> 846741</td>\n",
        "      <td> 33.510189</td>\n",
        "      <td>-84.224625</td>\n",
        "      <td> 275</td>\n",
        "      <td> 1</td>\n",
        "      <td> 1</td>\n",
        "      <td> 3958</td>\n",
        "      <td>                      846741-sign-violation</td>\n",
        "      <td> Open</td>\n",
        "      <td>                         Sign Violation</td>\n",
        "      <td> 12/07/2013 - 10:02am</td>\n",
        "      <td> 2013-12-07T10:02:25-05:00</td>\n",
        "      <td> 135598</td>\n",
        "      <td> 0</td>\n",
        "      <td>     NaN</td>\n",
        "      <td>  </td>\n",
        "      <td> Stockbridge</td>\n",
        "      <td>     NaN</td>\n",
        "      <td> 0</td>\n",
        "    </tr>\n",
        "    <tr>\n",
        "      <th>4</th>\n",
        "      <td> 4</td>\n",
        "      <td> 4</td>\n",
        "      <td> 520 Country Club Drive Stockbridge, GA 30281, USA</td>\n",
        "      <td> http://bit.ly/1f6n9b0</td>\n",
        "      <td> 12/07/2013 - 09:49am</td>\n",
        "      <td>                     Stop sign street sigh missing</td>\n",
        "      <td> 846733</td>\n",
        "      <td> 846733</td>\n",
        "      <td> 33.517456</td>\n",
        "      <td>-84.218910</td>\n",
        "      <td> 288</td>\n",
        "      <td> 1</td>\n",
        "      <td> 2</td>\n",
        "      <td> 3963</td>\n",
        "      <td> 846733-traffic-signals-street-lights-signs</td>\n",
        "      <td> Open</td>\n",
        "      <td> Traffic Signals, Street Lights &amp; Signs</td>\n",
        "      <td> 12/07/2013 - 11:21am</td>\n",
        "      <td> 2013-12-07T11:21:46-05:00</td>\n",
        "      <td> 135598</td>\n",
        "      <td> 1</td>\n",
        "      <td> Traffic</td>\n",
        "      <td>  </td>\n",
        "      <td> Stockbridge</td>\n",
        "      <td> Traffic</td>\n",
        "      <td> 0</td>\n",
        "    </tr>\n",
        "  </tbody>\n",
        "</table>\n",
        "</div>"
       ],
       "metadata": {},
       "output_type": "pyout",
       "prompt_number": 144,
       "text": [
        "   Unnamed: 0  Unnamed: 0.1                                            address                  bitly            created_at                                        description      id  issue_id        lat        lng  minutes_since_created  page  rating  request_type_id                                        slug status                                 summary            updated_at             updated_at_raw  user_id  vote_count     type neighborhood         city type_large  closed_dummy\n",
        "0           0             0    189-197 Daniel Drive Stockbridge, GA 30281, USA   http://bit.ly/J04Ppa  12/07/2013 - 01:56pm                                                NaN  846880    846880  33.554070 -84.263908                     41     1       1                0                                 846880-sign   Open                                    Sign  12/07/2013 - 01:56pm  2013-12-07T13:56:14-05:00   135598           0      NaN                                  NaN             0\n",
        "1           1             1            608 Lockwood Court Stockbridge, Georgia   http://bit.ly/J00KkU  12/07/2013 - 01:34pm  Please replace light bulbs, no streetlights.  ...  846863    846863  33.536917 -84.265460                     63     1       1             3963                      846863-no-street-light   Open                         No street light  12/07/2013 - 01:34pm  2013-12-07T13:34:22-05:00      NaN           0      NaN               Stockbridge        NaN             0\n",
        "2           2             2  1052-1118 Hudson Bridge Road Stockbridge, GA 3...  http://bit.ly/1f6qOpg  12/07/2013 - 10:11am                                                NaN  846743    846743  33.504406 -84.236282                    265     1       1             3958                       846743-sign-violation   Open                          Sign Violation  12/07/2013 - 10:11am  2013-12-07T10:11:26-05:00   135598           0      NaN               Stockbridge        NaN             0\n",
        "3           3             3  1090 Eagles Landing Parkway Stockbridge, GA 30...  http://bit.ly/1f6oVJ4  12/07/2013 - 10:02am                                                NaN  846741    846741  33.510189 -84.224625                    275     1       1             3958                       846741-sign-violation   Open                          Sign Violation  12/07/2013 - 10:02am  2013-12-07T10:02:25-05:00   135598           0      NaN               Stockbridge        NaN             0\n",
        "4           4             4  520 Country Club Drive Stockbridge, GA 30281, USA  http://bit.ly/1f6n9b0  12/07/2013 - 09:49am                      Stop sign street sigh missing  846733    846733  33.517456 -84.218910                    288     1       2             3963  846733-traffic-signals-street-lights-signs   Open  Traffic Signals, Street Lights & Signs  12/07/2013 - 11:21am  2013-12-07T11:21:46-05:00   135598           1  Traffic               Stockbridge    Traffic             0"
       ]
      }
     ],
     "prompt_number": 144
    },
    {
     "cell_type": "markdown",
     "metadata": {},
     "source": [
      "## KML\n",
      "\n",
      "Give the locational nature of our data, we're naturally inclined to look at geospatial methods for visualization. KML is widely supported across Internet mapping suites, and it's semantic nature makes construction of a novel file relatively stragiht forward. \n",
      "\n",
      "The analysis of KML-supporting modules started with simplekml (it's version of \"hello, world\" is here below)."
     ]
    },
    {
     "cell_type": "code",
     "collapsed": false,
     "input": [
      "kml = skml.Kml()\n",
      "kml.newpoint(name=\"Kirstenbosch\", coords=[(18.432314,-33.988862)])  # lon, lat, optional height\n",
      "kml.kml()\n",
      "print type(kml)\n",
      "kml.save('test.kml')"
     ],
     "language": "python",
     "metadata": {},
     "outputs": [
      {
       "output_type": "stream",
       "stream": "stdout",
       "text": [
        "<class 'simplekml.kml.Kml'>\n"
       ]
      }
     ],
     "prompt_number": 5
    },
    {
     "cell_type": "markdown",
     "metadata": {},
     "source": [
      "Data is consumed geographically as points and as shapes. A (aptly named) very simple framework, simplekml was suited for building a file of points but, lacking features like the ability to read in a KML file, we were left wanting for a more robust solution. This package does, however, quite quickly build a point file and pretty-prints quite nicely. You will see this demonstrated in the following two code blocks. "
     ]
    },
    {
     "cell_type": "code",
     "collapsed": false,
     "input": [
      "\"\"\"\n",
      "point_kml(df)\n",
      "\n",
      "Input: A DataFrame as an argument\n",
      "       DataFrame must have fields: \n",
      "           'id'\n",
      "           'description'\n",
      "           'lat'\n",
      "           'lng'\n",
      "Output :A KML-formatted string\n",
      "\"\"\"\n",
      "\n",
      "def point_kml(df): \n",
      "\n",
      "    # new instance of a KML file\n",
      "    kml_test = skml.Kml()\n",
      "    \n",
      "    # Helper function for processing\n",
      "    def nanCheck(arg):\n",
      "        return arg != arg\n",
      "\n",
      "    for i in range(0,len(df)):\n",
      "        # For simplicity, we abstract the row\n",
      "        row = df.iloc[i]\n",
      "        \n",
      "        # Then, we replace any \"nan\" in the description with an actual value\n",
      "        if nanCheck(row['description']) == True:\n",
      "            row_name = str(row['id'])\n",
      "        else:\n",
      "            row_name = str(row['id']) + ':' + row['description']\n",
      "\n",
      "        # We're going to cheat and replace rows with unicode errors with \"none\" so we get something out\n",
      "        try:\n",
      "            row_name.encode('ascii')\n",
      "        except UnicodeDecodeError:\n",
      "            row_name = str(row['id']).encode('ascii')\n",
      "\n",
      "    \n",
      "        # Finally, we KML-ize the row\n",
      "        kml_test.newpoint(name=row_name, coords=[(row['lng'], row['lat'])])\n",
      "\n",
      "    return kml_test"
     ],
     "language": "python",
     "metadata": {},
     "outputs": [],
     "prompt_number": 145
    },
    {
     "cell_type": "code",
     "collapsed": false,
     "input": [
      "print point_kml(df_test).kml()"
     ],
     "language": "python",
     "metadata": {},
     "outputs": [
      {
       "output_type": "stream",
       "stream": "stdout",
       "text": [
        "<?xml version=\"1.0\" encoding=\"UTF-8\"?>\n",
        "<kml xmlns=\"http://www.opengis.net/kml/2.2\" xmlns:gx=\"http://www.google.com/kml/ext/2.2\">\n",
        "    <Document id=\"feat_11487\">\n",
        "        <Placemark id=\"feat_11488\">\n",
        "            <name>846880</name>\n",
        "            <Point id=\"geom_11479\">\n",
        "                <coordinates>-84.26390839,33.55406952,0.0</coordinates>\n",
        "            </Point>\n",
        "        </Placemark>\n",
        "        <Placemark id=\"feat_11489\">\n",
        "            <name>846863:Please replace light bulbs, no streetlights.  Also, street light out on next street over--  Sunderland Way (culdesac).  Thank you!</name>\n",
        "            <Point id=\"geom_11480\">\n",
        "                <coordinates>-84.26545972,33.53691663,0.0</coordinates>\n",
        "            </Point>\n",
        "        </Placemark>\n",
        "        <Placemark id=\"feat_11490\">\n",
        "            <name>846743</name>\n",
        "            <Point id=\"geom_11481\">\n",
        "                <coordinates>-84.23628235,33.50440598,0.0</coordinates>\n",
        "            </Point>\n",
        "        </Placemark>\n",
        "        <Placemark id=\"feat_11491\">\n",
        "            <name>846741</name>\n",
        "            <Point id=\"geom_11482\">\n",
        "                <coordinates>-84.22462463,33.51018906,0.0</coordinates>\n",
        "            </Point>\n",
        "        </Placemark>\n",
        "        <Placemark id=\"feat_11492\">\n",
        "            <name>846733:Stop sign street sigh missing</name>\n",
        "            <Point id=\"geom_11483\">\n",
        "                <coordinates>-84.21891022,33.51745605,0.0</coordinates>\n",
        "            </Point>\n",
        "        </Placemark>\n",
        "    </Document>\n",
        "</kml>\n",
        "\n"
       ]
      }
     ],
     "prompt_number": 146
    },
    {
     "cell_type": "markdown",
     "metadata": {},
     "source": [
      "The output of point_kml() can then be served through a web service for mapping by a third-party service provider such as Google. For completeness, we print our full dataset to file below. "
     ]
    },
    {
     "cell_type": "code",
     "collapsed": false,
     "input": [
      "kml_output = point_kml(df_base)"
     ],
     "language": "python",
     "metadata": {},
     "outputs": [],
     "prompt_number": 141
    },
    {
     "cell_type": "code",
     "collapsed": false,
     "input": [
      "print type(kml_output)\n",
      "kml_output.save('data/points/points_All.kml', format=False)"
     ],
     "language": "python",
     "metadata": {},
     "outputs": [
      {
       "output_type": "stream",
       "stream": "stdout",
       "text": [
        "<class 'simplekml.kml.Kml'>\n"
       ]
      }
     ],
     "prompt_number": 143
    },
    {
     "cell_type": "markdown",
     "metadata": {},
     "source": [
      "## JSON \n",
      "\n",
      "KML is only one format for mapping consumption, and unfortunately not one supported by Google for heatmapping. Considering the value of such maps for communication, we needed supplimental method to serve our data. \n",
      "\n",
      "The JSON-formatted object is ubiquitous as a temporary storage method of semantic information. It's also the format Google expects to see a dataset (if not in a Fusion Table) for heat mapping. What follows are a few simple methods used to export the set of heatmaps used in the interactive page of our Web site. "
     ]
    },
    {
     "cell_type": "code",
     "collapsed": false,
     "input": [
      "\"\"\"\n",
      "A function to prepare a well-formed array for Google to consume and create a heatmap\n",
      "\n",
      "Takes a dataframe as an argument. This dataframe must contain:\n",
      "   column: 'lat' (float)\n",
      "   column: 'lng' (float)\n",
      "\n",
      "Returns a JSON formatted dict for a remote process to consume\n",
      "\"\"\"\n",
      "\n",
      "def latLongArray(df):\n",
      "    \n",
      "    # Our eventual final return\n",
      "    out_dict = {}\n",
      "    \n",
      "    for i in range(0,len(df)):\n",
      "\n",
      "        # For simplicity, we abstract the row\n",
      "        row = df.iloc[i]\n",
      "\n",
      "        out_dict[i] = {}\n",
      "        out_dict[i]['lat'] = row['lat']\n",
      "        out_dict[i]['long'] = row['lng']\n",
      "    \n",
      "    return out_dict"
     ],
     "language": "python",
     "metadata": {},
     "outputs": [],
     "prompt_number": 10
    },
    {
     "cell_type": "code",
     "collapsed": false,
     "input": [
      "print latLongArray(df_test)"
     ],
     "language": "python",
     "metadata": {},
     "outputs": [
      {
       "output_type": "stream",
       "stream": "stdout",
       "text": [
        "{0: {'lat': 33.554069519999999, 'long': -84.263908389999997}, 1: {'lat': 33.53691663, 'long': -84.265459719999996}, 2: {'lat': 33.504405980000001, 'long': -84.236282349999996}, 3: {'lat': 33.510189060000002, 'long': -84.224624629999994}, 4: {'lat': 33.51745605, 'long': -84.218910219999998}}\n"
       ]
      }
     ],
     "prompt_number": 11
    },
    {
     "cell_type": "code",
     "collapsed": false,
     "input": [
      "dfg_types = df_base.groupby('type')\n",
      "arr_types = []\n",
      "\n",
      "for k, gp in dfg_types:\n",
      "    arr_types.extend([k])\n",
      "\n",
      "print arr_types"
     ],
     "language": "python",
     "metadata": {},
     "outputs": [
      {
       "output_type": "stream",
       "stream": "stdout",
       "text": [
        "['Animal', 'Bicycle', 'Billing', 'Code violation', 'Crosswalk', 'Ditch cleaning', 'Dumping/debris', 'FALSE', 'Fire hydrant', 'Garbage', 'Homeless', 'Illegal activity', 'Illegal sign', 'Lane markings', 'Mail', 'Nuisance', 'Other', 'Overgrowth', 'Parking', 'Parks', 'Pothole/paving', 'Sidewalk', 'Signage', 'Street cleaning', 'Street lighting', 'Traffic', 'Tree', 'Utilities', 'Vacant/Delapidated', 'Water/sewage system']\n"
       ]
      }
     ],
     "prompt_number": 121
    },
    {
     "cell_type": "markdown",
     "metadata": {},
     "source": [
      "Cursory exploration confirmed the function constructed the points in a well-formed set, so we built out the set of heat maps for our visualizations. "
     ]
    },
    {
     "cell_type": "code",
     "collapsed": false,
     "input": [
      "# Seeing that our test above was successful, we're ready to parse and save the entire file.\n",
      "\n",
      "\"\"\" \n",
      "makeJsonFile\n",
      "\n",
      "Inputs: \n",
      "    name = string, name of file\n",
      "    df = DataFrame, to process\n",
      "\n",
      "Output:\n",
      "    1. saves .json file to disk \n",
      "\"\"\"\n",
      "\n",
      "def makeJsonFile(name, df):\n",
      "    \n",
      "    json_blob = latLongArray(df)\n",
      "    \n",
      "    name = re.sub('\\W', '_', name)\n",
      "    \n",
      "    # Hat tip to http://stackoverflow.com/a/14870531 for the pattern\n",
      "    with io.open('data/heat/heat_' + name + '.json', 'w', encoding='utf-8') as f:\n",
      "      f.write(unicode(json.dumps(json_blob, ensure_ascii=False)))\n",
      "    \n",
      "    print 'We saved a file for ' + name"
     ],
     "language": "python",
     "metadata": {},
     "outputs": [],
     "prompt_number": 136
    },
    {
     "cell_type": "code",
     "collapsed": false,
     "input": [
      "# We'll run through the groups for the categories and make a file for each. \n",
      "\n",
      "for k, gp in dfg_types:\n",
      "    makeJsonFile(k, gp)"
     ],
     "language": "python",
     "metadata": {},
     "outputs": [
      {
       "output_type": "stream",
       "stream": "stdout",
       "text": [
        "We saved a file for Animal\n",
        "We saved a file for Bicycle"
       ]
      },
      {
       "output_type": "stream",
       "stream": "stdout",
       "text": [
        "\n",
        "We saved a file for Billing\n",
        "We saved a file for Code_violation\n",
        "We saved a file for Crosswalk\n",
        "We saved a file for Ditch_cleaning\n",
        "We saved a file for Dumping_debris"
       ]
      },
      {
       "output_type": "stream",
       "stream": "stdout",
       "text": [
        "\n",
        "We saved a file for FALSE\n",
        "We saved a file for Fire_hydrant\n",
        "We saved a file for Garbage"
       ]
      },
      {
       "output_type": "stream",
       "stream": "stdout",
       "text": [
        "\n",
        "We saved a file for Homeless\n",
        "We saved a file for Illegal_activity\n",
        "We saved a file for Illegal_sign\n",
        "We saved a file for Lane_markings\n",
        "We saved a file for Mail\n",
        "We saved a file for Nuisance\n",
        "We saved a file for Other\n",
        "We saved a file for Overgrowth"
       ]
      },
      {
       "output_type": "stream",
       "stream": "stdout",
       "text": [
        "\n",
        "We saved a file for Parking\n",
        "We saved a file for Parks\n",
        "We saved a file for Pothole_paving"
       ]
      },
      {
       "output_type": "stream",
       "stream": "stdout",
       "text": [
        "\n",
        "We saved a file for Sidewalk"
       ]
      },
      {
       "output_type": "stream",
       "stream": "stdout",
       "text": [
        "\n",
        "We saved a file for Signage"
       ]
      },
      {
       "output_type": "stream",
       "stream": "stdout",
       "text": [
        "\n",
        "We saved a file for Street_cleaning\n",
        "We saved a file for Street_lighting"
       ]
      },
      {
       "output_type": "stream",
       "stream": "stdout",
       "text": [
        "\n",
        "We saved a file for Traffic"
       ]
      },
      {
       "output_type": "stream",
       "stream": "stdout",
       "text": [
        "\n",
        "We saved a file for Tree\n",
        "We saved a file for Utilities\n",
        "We saved a file for Vacant_Delapidated"
       ]
      },
      {
       "output_type": "stream",
       "stream": "stdout",
       "text": [
        "\n",
        "We saved a file for Water_sewage_system"
       ]
      },
      {
       "output_type": "stream",
       "stream": "stdout",
       "text": [
        "\n"
       ]
      }
     ],
     "prompt_number": 138
    },
    {
     "cell_type": "markdown",
     "metadata": {},
     "source": [
      "## Filtering and faceting\n",
      "\n",
      "The final utility in our toolbox is the need to support faceting our data. The following method draws from the variables we considered with our web service, and returns a filtered dataframe that can then be passed through the JSON function or our KML parser to respond to an API request."
     ]
    },
    {
     "cell_type": "code",
     "collapsed": false,
     "input": [
      "\"\"\"\n",
      "get_filtered_df\n",
      "\n",
      "Inputs:\n",
      "    args: a dict of options sent by the client\n",
      "    df: the dataframe that we'll be trimming\n",
      "\n",
      "Outputs: \n",
      "    A dataframe filtered by the facets\n",
      "\"\"\"\n",
      "def get_filtered_df(args, df): \n",
      "    \n",
      "    df1 = df[df.city.map(lambda x: x == 'atlanta' or x == 'Atlanta')]\n",
      "\n",
      "    # Process the dataframe for each facet required\n",
      "    # Neighborhood\n",
      "    df1 = df1[df1['neighborhood'].map(lambda x: x == args['neigh'])]\n",
      "    # Category\n",
      "    df1 = df1[df1['type'].map(lambda x: x == args['category'])]\n",
      "    # Start Date # For later exploration\n",
      "    # df1 = df1[df1['created_at'].map(lambda x: datetime >= args['dStart'])] # and x <= args['dEnd']\n",
      "\n",
      "    return df1"
     ],
     "language": "python",
     "metadata": {},
     "outputs": [],
     "prompt_number": 161
    },
    {
     "cell_type": "code",
     "collapsed": false,
     "input": [
      "tem = df_base.groupby('neighborhood')\n",
      "print 'There are ' + str(len(tem)) + ' neighborhoods in our dataset.'\n",
      "tem = df_base.groupby('type')\n",
      "print 'As well as ' + str(len(tem)) + ' submission categories.'"
     ],
     "language": "python",
     "metadata": {},
     "outputs": [
      {
       "output_type": "stream",
       "stream": "stdout",
       "text": [
        "There are 152 neighborhoods in our dataset.\n",
        "As well as 30 submission categories.\n"
       ]
      }
     ],
     "prompt_number": 162
    },
    {
     "cell_type": "markdown",
     "metadata": {},
     "source": [
      "A test of the filter, then, with sample values:"
     ]
    },
    {
     "cell_type": "code",
     "collapsed": false,
     "input": [
      "dict_t = {'neigh': 'Midtown', 'category': 'Traffic', 'dStart': '3-15-2012', 'dEnd': '10-15-2012'}\n",
      "\n",
      "test = get_filtered_df(dict_t, df_base)"
     ],
     "language": "python",
     "metadata": {},
     "outputs": [],
     "prompt_number": 157
    },
    {
     "cell_type": "code",
     "collapsed": false,
     "input": [
      "len(test)"
     ],
     "language": "python",
     "metadata": {},
     "outputs": [
      {
       "metadata": {},
       "output_type": "pyout",
       "prompt_number": 159,
       "text": [
        "4"
       ]
      }
     ],
     "prompt_number": 159
    },
    {
     "cell_type": "code",
     "collapsed": false,
     "input": [
      "print test.groupby('type').groups"
     ],
     "language": "python",
     "metadata": {},
     "outputs": [
      {
       "output_type": "stream",
       "stream": "stdout",
       "text": [
        "{'Traffic': [1744, 2115, 3118, 3728]}\n"
       ]
      }
     ],
     "prompt_number": 160
    },
    {
     "cell_type": "markdown",
     "metadata": {},
     "source": [
      "Our reduced frame is then ready for delivery. "
     ]
    }
   ],
   "metadata": {}
  }
 ]
}
